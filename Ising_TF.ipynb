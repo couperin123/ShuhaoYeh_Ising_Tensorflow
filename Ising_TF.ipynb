{
 "cells": [
  {
   "cell_type": "markdown",
   "metadata": {},
   "source": [
    "# Ising Model with Neural Network\n",
    "\n",
    "Author: Shu-Hao Yeh (shuhaoyeh.ds@gmail.com)"
   ]
  },
  {
   "cell_type": "code",
   "execution_count": 1,
   "metadata": {},
   "outputs": [],
   "source": [
    "# Environment setup\n",
    "%matplotlib inline\n",
    "import tensorflow as tf\n",
    "import numpy as np\n",
    "import matplotlib.pyplot as plt\n",
    "from matplotlib import rc\n",
    "from functools import partial\n",
    "\n",
    "rc('text', usetex=True)\n",
    "\n",
    "# to make this notebook's output stable across runs\n",
    "def reset_graph(seed=3):\n",
    "    tf.reset_default_graph()\n",
    "    tf.set_random_seed(seed)\n",
    "    np.random.seed(seed)"
   ]
  },
  {
   "cell_type": "markdown",
   "metadata": {},
   "source": [
    "## Ising Model\n",
    "\n",
    "The Ising model, named after the German physicist Ernst Ising, is a mathematical model of ferromagnetism and also an important model system for understanding phase transitions. Consider a system of $N^2$ spins arranged on a $N$ by $N$ square lattice as illustrated in Fig.1:\n",
    "\n",
    "\n",
    "<figure>\n",
    "<img src = \"./img/Ising_SqLatt.png\", width=200, height=600>\n",
    "\n",
    "<center><figcaption> Figure 1: Spins on a square lattice. </figcaption></center>\n",
    "</figure>\n",
    "\n",
    "Each spin $s_i$ can be in one of the two states, -1 (spin points down) or +1 (spin points up). Ising model suggests that the interaction energy is:\n",
    "\n",
    "$-J\\sum_{ij}s_i s_j \\;,$\n",
    "where $J$ is the coupling constant and only the interactions between the nearest neighbor spins are included. The total energy of the system is represented by its Hamiltonian:\n",
    "\n",
    "$$\\mathcal{H} = -J\\sum_{ij}s_i s_j - H\\sum_i s_i \\;,$$\n",
    "where $H$ is the external magnetic field. In all the simulations we assumed that there is no external magnetic field applied to the system $(H = 0)$ and the coupling constant is positive $(J > 0)$.\n"
   ]
  },
  {
   "cell_type": "markdown",
   "metadata": {},
   "source": [
    "## Monte Carlo Simulation\n",
    "\n",
    "The following code simulates the 2D Ising model using the Metropolis algorithm:\n",
    "\n",
    "1. Initialize the spin configuration.\n",
    "2. Randomly select one spin in the lattice and flip the sign. $\\Delta E = E_{\\mathrm{new}} - E_{\\mathrm{old}}$.\n",
    "3. If the total energy of the new spin configuration is lower ($\\Delta E < 0$), accept the move. Otherwise draw a random number $x$ between 0 and 1, and accept the change only if $\\exp(-\\Delta E / k_B T) \\ge x$.\n",
    "4. Repeat Step 2 and 3.\n",
    "\n",
    "### Parameters for Monte Carlo Simulation"
   ]
  },
  {
   "cell_type": "code",
   "execution_count": 2,
   "metadata": {},
   "outputs": [],
   "source": [
    "N = 20 # Lattice points on each edge\n",
    "T = 8 # Temperature (in the unit of J/k_B), the critical temperature in this case is 2/log(1+sqrt(2)) ~= 2.269\n",
    "ns = 5000 # Number of Monte Carlo steps"
   ]
  },
  {
   "cell_type": "markdown",
   "metadata": {},
   "source": [
    "### Initialization\n",
    "\n",
    "The initial spin configuration is set to all spins pointing up ($s_i = 1$)."
   ]
  },
  {
   "cell_type": "code",
   "execution_count": 3,
   "metadata": {},
   "outputs": [
    {
     "data": {
      "text/plain": [
       "(0.5, 20.5, 20.5, 0.5)"
      ]
     },
     "execution_count": 3,
     "metadata": {},
     "output_type": "execute_result"
    },
    {
     "data": {
      "image/png": "[encoded data removed]",
      "text/plain": [
       "<Figure size 432x288 with 1 Axes>"
      ]
     },
     "metadata": {
      "needs_background": "light"
     },
     "output_type": "display_data"
    }
   ],
   "source": [
    "# Initial state\n",
    "reset_graph()\n",
    "M = np.ones((N,N), dtype=int)\n",
    "\n",
    "fig, ax = plt.subplots()\n",
    "ax.imshow(M, extent=[0.5, N + 0.5, N + 0.5 , 0.5], vmin=-1, vmax=1)\n",
    "plt.axis('off')"
   ]
  },
  {
   "cell_type": "markdown",
   "metadata": {},
   "source": [
    "### Setup the energy evaluation function\n",
    "\n",
    "The code below defines the function that calculates the total energy of the system depending on the spin configuration."
   ]
  },
  {
   "cell_type": "code",
   "execution_count": 4,
   "metadata": {},
   "outputs": [],
   "source": [
    "def estE(M): # Energy evaluation function\n",
    "    total = 0\n",
    "    for i in range(N-1): \n",
    "        total -= np.sum(np.multiply(M[i,:] , M[i+1,:])) # Sum over element-wise multiplication between neighbor rows\n",
    "        \n",
    "    for i in range(N-1):\n",
    "        total -= np.sum(np.multiply(M[:,i] , M[:,i+1])) # Sum over element-wise multiplication between neighbor columns\n",
    "    \n",
    "    return total"
   ]
  },
  {
   "cell_type": "markdown",
   "metadata": {},
   "source": [
    "### Monte Carlo Iterations"
   ]
  },
  {
   "cell_type": "code",
   "execution_count": 5,
   "metadata": {},
   "outputs": [
    {
     "name": "stdout",
     "output_type": "stream",
     "text": [
      "Complete 5000 steps\n"
     ]
    }
   ],
   "source": [
    "# Start the Monte Carlo iterations\n",
    "for i in range(ns):\n",
    "    rele = np.random.randint(N**2)\n",
    "    m,n = divmod(rele,N)\n",
    "    newM = np.copy(M)\n",
    "    newM[m,n] *= -1\n",
    "    dE = estE(newM) - estE(M)\n",
    "    if dE <= 0:\n",
    "        np.copyto(M,newM)\n",
    "    elif np.random.random_sample() <= np.exp(-dE/T):\n",
    "        np.copyto(M,newM)\n",
    "    \n",
    "print(\"Complete {:d} steps\".format(ns))"
   ]
  },
  {
   "cell_type": "markdown",
   "metadata": {},
   "source": [
    "## Visualize the results\n",
    "\n",
    "The final spin configuration is shown below with its corresponding magnetization: $$\\langle M \\rangle = \\frac{1}{N^2} \\sum_i^{N^2} s_i$$ provided. The yellow and blue color in the figure below represent spin up and down respectively."
   ]
  },
  {
   "cell_type": "code",
   "execution_count": 6,
   "metadata": {},
   "outputs": [
    {
     "name": "stdout",
     "output_type": "stream",
     "text": [
      "<M> =  0.095\n"
     ]
    },
    {
     "data": {
      "image/png": "[encoded data removed]",
      "text/plain": [
       "<Figure size 432x288 with 1 Axes>"
      ]
     },
     "metadata": {
      "needs_background": "light"
     },
     "output_type": "display_data"
    }
   ],
   "source": [
    "fig, ax = plt.subplots()\n",
    "ax.imshow(M, extent=[0.5, N + 0.5, N + 0.5 , 0.5], vmin=-1, vmax=1)\n",
    "plt.axis('off')\n",
    "\n",
    "print(\"<M> = \", np.sum(M)/(N**2))"
   ]
  },
  {
   "cell_type": "markdown",
   "metadata": {},
   "source": [
    "## Discriminating between the low- and high-temperature phase by neural network\n",
    "\n",
    "Recently machine learning has been exploited in studying phases and phase transitions in condensed-matter research. The code below demonstrates a trained neural network which is capable of descriminating between the low-temperature ferromagnetic phase and the high-temperature paramagnetic phase in the ferromagnetic Ising model. The trained neural network (trained on square lattice) can be further exploited to estimate the critical temperature of Ising model with a different lattice architecture (ex. triangular lattice, Fig.2).\n",
    "\n",
    "<figure>\n",
    "<img src = \"./img/Ising_TriLatt.png\", width=200, height=600>\n",
    "\n",
    "<center><figcaption> Figure 2: Spins on a triangular lattice. </figcaption></center>\n",
    "</figure>\n",
    "\n",
    "\n",
    "\n",
    "### Parameters for the neural network\n",
    "\n",
    "The neural network is composed of an input layer of $N^2$ neurons with values assigned according to the spin configurations, a hidden layer of $N^2$ neurons, and an output layer of two neurons that categorize the phases. In the output layer, we labeled the low- and high-temperature phase as 0 and 1, respectively."
   ]
  },
  {
   "cell_type": "code",
   "execution_count": 7,
   "metadata": {},
   "outputs": [],
   "source": [
    "n_inputs = 20*20\n",
    "n_hidden1 = 400\n",
    "n_outputs = 2"
   ]
  },
  {
   "cell_type": "code",
   "execution_count": 8,
   "metadata": {},
   "outputs": [],
   "source": [
    "reset_graph()\n",
    "\n",
    "X = tf.placeholder(tf.float32, shape=(None, n_inputs), name=\"X\")\n",
    "y = tf.placeholder(tf.int32, shape=(None), name=\"y\")"
   ]
  },
  {
   "cell_type": "markdown",
   "metadata": {},
   "source": [
    "### Cost function and optimizer\n",
    "\n",
    "To prevent overfitting, we use a cross-entropy cost function with an $L2$ regularization term. The neural network is trained with using the Adam optimization."
   ]
  },
  {
   "cell_type": "code",
   "execution_count": 9,
   "metadata": {},
   "outputs": [],
   "source": [
    "scale = 0.025 # l2 regularization hyperparameter\n",
    "\n",
    "my_dense_layer = partial(\n",
    "    tf.layers.dense, activation=tf.nn.sigmoid,\n",
    "    kernel_regularizer=tf.contrib.layers.l2_regularizer(scale))\n",
    "\n",
    "with tf.name_scope(\"dnn\"):\n",
    "    hidden1 = my_dense_layer(X, n_hidden1, name=\"hidden1\")\n",
    "    logits = my_dense_layer(hidden1, n_outputs, activation=None, name=\"outputs\")"
   ]
  },
  {
   "cell_type": "code",
   "execution_count": 10,
   "metadata": {},
   "outputs": [],
   "source": [
    "with tf.name_scope(\"loss\"):\n",
    "    xentropy = tf.nn.sparse_softmax_cross_entropy_with_logits(labels=y, logits=logits)\n",
    "    base_loss = tf.reduce_mean(xentropy, name=\"avg_xentropy\")   # not shown\n",
    "    reg_losses = tf.get_collection(tf.GraphKeys.REGULARIZATION_LOSSES)\n",
    "    loss = tf.add_n([base_loss] + reg_losses, name=\"loss\")"
   ]
  },
  {
   "cell_type": "code",
   "execution_count": 11,
   "metadata": {},
   "outputs": [],
   "source": [
    "learning_rate = 0.0001\n",
    "\n",
    "with tf.name_scope(\"train\"):\n",
    "    optimizer = tf.train.AdamOptimizer(learning_rate)\n",
    "    training_op = optimizer.minimize(loss)"
   ]
  },
  {
   "cell_type": "code",
   "execution_count": 12,
   "metadata": {},
   "outputs": [],
   "source": [
    "with tf.name_scope(\"eval\"):\n",
    "    correct = tf.nn.in_top_k(logits, y, 1)\n",
    "    accuracy = tf.reduce_mean(tf.cast(correct, tf.float32))"
   ]
  },
  {
   "cell_type": "code",
   "execution_count": 13,
   "metadata": {},
   "outputs": [],
   "source": [
    "init = tf.global_variables_initializer()\n",
    "saver = tf.train.Saver()"
   ]
  },
  {
   "cell_type": "code",
   "execution_count": 14,
   "metadata": {},
   "outputs": [],
   "source": [
    "n_epochs = 100\n",
    "batch_size = 100"
   ]
  },
  {
   "cell_type": "code",
   "execution_count": 15,
   "metadata": {},
   "outputs": [],
   "source": [
    "def shuffle_batch(X, y, batch_size):\n",
    "    rnd_idx = np.random.permutation(len(X))\n",
    "    n_batches = len(X) // batch_size\n",
    "    for batch_idx in np.array_split(rnd_idx, n_batches):\n",
    "        X_batch, y_batch = X[batch_idx], y[batch_idx]\n",
    "        yield X_batch, y_batch"
   ]
  },
  {
   "cell_type": "markdown",
   "metadata": {},
   "source": [
    "### Define the training, evaluation, and test set\n",
    "\n",
    "The training set is composed of 200 samples per temperature value, where 20 linearly-spaced temperature values are used. To evenly include spin configurations in the low- or high-temperature phases, the temperature range is set from 1.3 to 3.2 $J/k_B$ (the critical temperature of square-lattice Ising model is $2/\\ln\\left(1+\\sqrt{2}\\right) \\approx 2.269 J/k_B$). The spin configurations of square-lattice Ising model are generated by Monte Carlo simulations (using 5000 steps) introduced above, and the initial spin configurations across the samples are evenly set to either all spins pointing up or down. \n",
    "\n",
    "The validation set is generated in a similar fashion, the only difference is 50 samples are used per temperature value instead of 200. The test set consists of 250 samples per temperature value, using 20 linearly-spaced temperature values. The spin configurations of triangular-lattice Ising model are also generated by Monte Carlo simulations but a different temperature range is used (from 2.7 to 4.6 $J/k_B$, to include the critical temperature of triangular lattice Ising model, which is $4/\\ln~3 \\approx 3.641 J/k_B$)."
   ]
  },
  {
   "cell_type": "code",
   "execution_count": 16,
   "metadata": {},
   "outputs": [],
   "source": [
    "Xdata = np.loadtxt(\"./Xtrain.txt\", dtype=int)\n",
    "X_test_sq = np.loadtxt(\"./Xtest.txt\", dtype=int) # Square-lattice test set\n",
    "X_test_tri = np.loadtxt(\"./Xtest_tri.txt\", dtype=int) # Triangular-lattice test set\n",
    "valid_idx = np.kron(np.ones(20,dtype=int), np.arange(200,250,dtype=int)) + np.kron(250*np.arange(0,20,dtype=int),np.ones(50,dtype=int))\n",
    "train_idx = np.kron(np.ones(20,dtype=int), np.arange(0,200,dtype=int)) + np.kron(250*np.arange(0,20,dtype=int),np.ones(200,dtype=int))\n",
    "X_valid = Xdata[valid_idx]\n",
    "X_train = Xdata[train_idx]\n",
    "y_train = np.concatenate((np.zeros(2000, dtype=int), np.ones(2000, dtype=int)))\n",
    "y_valid = np.concatenate((np.zeros(500, dtype=int), np.ones(500, dtype=int)))\n",
    "y_test = np.concatenate((np.zeros(2500, dtype=int), np.ones(2500, dtype=int)))"
   ]
  },
  {
   "cell_type": "code",
   "execution_count": 17,
   "metadata": {},
   "outputs": [
    {
     "name": "stdout",
     "output_type": "stream",
     "text": [
      "0 Batch accuracy: 0.59 Validation accuracy: 0.462\n",
      "10 Batch accuracy: 0.91 Validation accuracy: 0.919\n",
      "20 Batch accuracy: 0.94 Validation accuracy: 0.867\n",
      "30 Batch accuracy: 0.94 Validation accuracy: 0.933\n",
      "40 Batch accuracy: 0.99 Validation accuracy: 0.928\n",
      "50 Batch accuracy: 0.94 Validation accuracy: 0.926\n",
      "60 Batch accuracy: 0.93 Validation accuracy: 0.927\n",
      "70 Batch accuracy: 0.94 Validation accuracy: 0.937\n",
      "80 Batch accuracy: 0.94 Validation accuracy: 0.904\n",
      "90 Batch accuracy: 0.93 Validation accuracy: 0.936\n",
      "100 Batch accuracy: 0.93 Validation accuracy: 0.932\n"
     ]
    }
   ],
   "source": [
    "cost_history = np.zeros(shape=[n_epochs+1],dtype=float)\n",
    "\n",
    "with tf.Session() as sess:\n",
    "    init.run()\n",
    "    for epoch in range(n_epochs + 1):\n",
    "        for X_batch, y_batch in shuffle_batch(X_train, y_train, batch_size):\n",
    "            sess.run(training_op, feed_dict={X: X_batch, y: y_batch})\n",
    "        acc_batch = accuracy.eval(feed_dict={X: X_batch, y: y_batch})\n",
    "        acc_valid = accuracy.eval(feed_dict={X: X_valid, y: y_valid})        \n",
    "        cost_history[epoch] = acc_batch\n",
    "        \n",
    "        if epoch % 10 == 0:\n",
    "            print(epoch, \"Batch accuracy:\", acc_batch, \"Validation accuracy:\", acc_valid)\n",
    "\n",
    "    save_path = saver.save(sess, \"./my_model_final.ckpt\")"
   ]
  },
  {
   "cell_type": "code",
   "execution_count": 18,
   "metadata": {},
   "outputs": [
    {
     "name": "stdout",
     "output_type": "stream",
     "text": [
      "INFO:tensorflow:Restoring parameters from ./my_model_final.ckpt\n"
     ]
    }
   ],
   "source": [
    "with tf.Session() as sess:\n",
    "    saver.restore(sess, \"./my_model_final.ckpt\") # or better, use save_path\n",
    "    X_new_scaled = X_test_sq[:]\n",
    "    Z = logits.eval(feed_dict={X: X_new_scaled})\n",
    "    y_pred1 = np.argmax(Z, axis=1)"
   ]
  },
  {
   "cell_type": "code",
   "execution_count": 19,
   "metadata": {},
   "outputs": [
    {
     "name": "stdout",
     "output_type": "stream",
     "text": [
      "Predicted classes: [0 0 0 ... 1 1 1]\n",
      "Actual classes:    [0 0 0 ... 1 1 1]\n"
     ]
    }
   ],
   "source": [
    "print(\"Predicted classes:\", y_pred1)\n",
    "print(\"Actual classes:   \", y_test[:])"
   ]
  },
  {
   "cell_type": "markdown",
   "metadata": {},
   "source": [
    "## Visualize the results"
   ]
  },
  {
   "cell_type": "code",
   "execution_count": 20,
   "metadata": {},
   "outputs": [
    {
     "data": {
      "text/plain": [
       "Text(0.5, 1.0, 'Model accuracy')"
      ]
     },
     "execution_count": 20,
     "metadata": {},
     "output_type": "execute_result"
    },
    {
     "data": {
      "image/png": "[encoded data removed]",
      "text/plain": [
       "<Figure size 432x288 with 1 Axes>"
      ]
     },
     "metadata": {
      "needs_background": "light"
     },
     "output_type": "display_data"
    }
   ],
   "source": [
    "plt.plot(range(len(cost_history)),cost_history) # Print epoch vs accuracy\n",
    "plt.xlabel(\"Epoch\")\n",
    "plt.ylabel(\"Accuracy\")\n",
    "plt.title(\"Model accuracy\")"
   ]
  },
  {
   "cell_type": "code",
   "execution_count": 21,
   "metadata": {},
   "outputs": [
    {
     "data": {
      "text/plain": [
       "Text(0.5, 1.0, 'Square-lattice Ising Model')"
      ]
     },
     "execution_count": 21,
     "metadata": {},
     "output_type": "execute_result"
    },
    {
     "data": {
      "image/png": "[encoded data removed]",
      "text/plain": [
       "<Figure size 432x288 with 1 Axes>"
      ]
     },
     "metadata": {
      "needs_background": "light"
     },
     "output_type": "display_data"
    }
   ],
   "source": [
    "plt.plot(np.linspace(1.3, 3.2, num=20), np.mean(y_pred1.reshape(-1, 250), axis=1), marker=\"x\")\n",
    "plt.xlabel(r\"$k_B T /\\;J$\")\n",
    "plt.ylabel('Output layer')\n",
    "plt.axvline(x=2/np.log(1+np.sqrt(2)), color='r')\n",
    "plt.title(\"Square-lattice Ising Model\")"
   ]
  },
  {
   "cell_type": "code",
   "execution_count": 22,
   "metadata": {},
   "outputs": [
    {
     "name": "stdout",
     "output_type": "stream",
     "text": [
      "INFO:tensorflow:Restoring parameters from ./my_model_final.ckpt\n"
     ]
    }
   ],
   "source": [
    "with tf.Session() as sess:\n",
    "    saver.restore(sess, \"./my_model_final.ckpt\") # or better, use save_path\n",
    "    X_new_scaled = X_test_tri[:]\n",
    "    Z = logits.eval(feed_dict={X: X_new_scaled})\n",
    "    y_pred2 = np.argmax(Z, axis=1)"
   ]
  },
  {
   "cell_type": "code",
   "execution_count": 23,
   "metadata": {},
   "outputs": [
    {
     "data": {
      "text/plain": [
       "Text(0.5, 1.0, 'Triangular-lattice Ising Model')"
      ]
     },
     "execution_count": 23,
     "metadata": {},
     "output_type": "execute_result"
    },
    {
     "data": {
      "image/png": "[encoded data removed]",
      "text/plain": [
       "<Figure size 432x288 with 1 Axes>"
      ]
     },
     "metadata": {
      "needs_background": "light"
     },
     "output_type": "display_data"
    }
   ],
   "source": [
    "plt.plot(np.linspace(2.7, 4.6, num=20), np.mean(y_pred2.reshape(-1, 250), axis=1), marker=\"x\")\n",
    "plt.xlabel(r\"$k_B T /\\;J$\")\n",
    "plt.ylabel('Output layer')\n",
    "plt.axvline(x=4/np.log(3), color='r')\n",
    "plt.title(\"Triangular-lattice Ising Model\")"
   ]
  },
  {
   "cell_type": "markdown",
   "metadata": {},
   "source": [
    "Ideally, the neural network should categorize the spin configurations generated below or above $T_c$ as in the low- or high-temperature phase, respectively. The red vertical line represents the critical temperature in the corresponding lattice structure. The average outputs of the neural network cross the value of 0.5 at temperature close to the critical temperature $T_c$. The neural network trained under square-lattice Ising model is capable of predicting the low- and high-temperature phases in the triangular-lattice Ising model."
   ]
  }
 ],
 "metadata": {
  "kernelspec": {
   "display_name": "Python 3",
   "language": "python",
   "name": "python3"
  },
  "language_info": {
   "codemirror_mode": {
    "name": "ipython",
    "version": 3
   },
   "file_extension": ".py",
   "mimetype": "text/x-python",
   "name": "python",
   "nbconvert_exporter": "python",
   "pygments_lexer": "ipython3",
   "version": "3.5.6"
  }
 },
 "nbformat": 4,
 "nbformat_minor": 2
}
