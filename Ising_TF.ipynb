{
 "cells": [
  {
   "cell_type": "markdown",
   "metadata": {},
   "source": [
    "# Ising Model with Neural Network\n",
    "\n",
    "Author: Shu-Hao Yeh (shuhaoyeh.ds@gmail.com)"
   ]
  },
  {
   "cell_type": "code",
   "execution_count": 2,
   "metadata": {},
   "outputs": [],
   "source": [
    "# Environment setup\n",
    "%matplotlib inline\n",
    "import tensorflow as tf\n",
    "import numpy as np\n",
    "import matplotlib.pyplot as plt\n",
    "from matplotlib import rc\n",
    "from functools import partial\n",
    "\n",
    "rc('text', usetex=True)\n",
    "\n",
    "# to make this notebook's output stable across runs\n",
    "def reset_graph(seed=3):\n",
    "    tf.reset_default_graph()\n",
    "    tf.set_random_seed(seed)\n",
    "    np.random.seed(seed)"
   ]
  },
  {
   "cell_type": "markdown",
   "metadata": {},
   "source": [
    "## Introduction and Model\n",
    "\n",
    "The Ising model, named after the German physicist Ernst Ising, is a mathematical model of ferromagnetism and also an important model system for understanding phase transitions. Consider a system of $N^2$ spins arranged on a $N$ by $N$ square lattice as illustrated in Fig.$~$1:\n",
    "\n",
    "\n",
    "<figure>\n",
    "<img src = \"./img/Ising_SqLatt.png\", width=200, height=600>\n",
    "\n",
    "<center><figcaption> Figure 1: Spins on a square lattice. </figcaption></center>\n",
    "</figure>\n",
    "\n",
    "Each spin $s_i$ can be in one of the two states, -1 (spin points down) or +1 (spin points up). Ising model suggests that the interaction energy is:\n",
    "\n",
    "$-J\\sum_{ij}s_i s_j \\;,$\n",
    "where $J$ is the coupling constant and only the interactions between the nearest neighbor spins are included. The total energy of the system is represented by its Hamiltonian:\n",
    "\n",
    "$$\\mathcal{H} = -J\\sum_{ij}s_i s_j - H\\sum_i s_i \\;,$$\n",
    "where $H$ is the external magnetic field. In all the simulations we assumed that there is no external magnetic field applied to the system $(H = 0)$ and the coupling constant is positive $(J > 0)$.\n"
   ]
  },
  {
   "cell_type": "markdown",
   "metadata": {},
   "source": [
    "## Monte Carlo Simulation\n",
    "\n",
    "The following code simulates the 2D Ising model using the Metropolis algorithm:\n",
    "\n",
    "1. Initialize the spin configuration.\n",
    "2. Randomly select one spin in the lattice and flip the sign. $\\Delta E = E_{\\mathrm{new}} - E_{\\mathrm{old}}$.\n",
    "3. If the total energy of the new spin configuration is lower ($\\Delta E < 0$), accept the move. Otherwise draw a random number $x$ between 0 and 1, and accept the change only if $\\exp(-\\Delta E / k_B T) \\ge x$.\n",
    "4. Repeat Step 2 and 3.\n",
    "\n",
    "### Parameters for Monte Carlo Simulation"
   ]
  },
  {
   "cell_type": "code",
   "execution_count": 13,
   "metadata": {},
   "outputs": [],
   "source": [
    "N = 20 # Lattice points on each edge\n",
    "T = 8 # Temperature (in the unit of J/k_B), the critical temperature in this case is 2/log(1+sqrt(2)) ~= 2.269\n",
    "ns = 5000 # Number of Monte Carlo steps"
   ]
  },
  {
   "cell_type": "markdown",
   "metadata": {},
   "source": [
    "### Initialization\n",
    "\n",
    "The initial spin configuration is set to all spins pointing up ($s_i = 1$)."
   ]
  },
  {
   "cell_type": "code",
   "execution_count": 14,
   "metadata": {},
   "outputs": [
    {
     "data": {
      "text/plain": [
       "(0.5, 20.5, 20.5, 0.5)"
      ]
     },
     "execution_count": 14,
     "metadata": {},
     "output_type": "execute_result"
    },
    {
     "data": {
      "image/png": "[encoded data removed]",
      "text/plain": [
       "<Figure size 432x288 with 1 Axes>"
      ]
     },
     "metadata": {
      "needs_background": "light"
     },
     "output_type": "display_data"
    }
   ],
   "source": [
    "# Initial state\n",
    "reset_graph()\n",
    "M = np.ones((N,N), dtype=int)\n",
    "\n",
    "fig, ax = plt.subplots()\n",
    "ax.imshow(M, extent=[0.5, N + 0.5, N + 0.5 , 0.5], vmin=-1, vmax=1)\n",
    "plt.axis('off')"
   ]
  },
  {
   "cell_type": "markdown",
   "metadata": {},
   "source": [
    "### Setup the energy evaluation function\n",
    "\n",
    "The code below defines the function that calculates the total energy of the system depending on the spin configuration."
   ]
  },
  {
   "cell_type": "code",
   "execution_count": 15,
   "metadata": {},
   "outputs": [],
   "source": [
    "def estE(M): # Energy evaluation function\n",
    "    total = 0\n",
    "    for i in range(N-1): \n",
    "        total -= np.sum(np.multiply(M[i,:] , M[i+1,:])) # Sum over element-wise multiplication between neighbor rows\n",
    "        \n",
    "    for i in range(N-1):\n",
    "        total -= np.sum(np.multiply(M[:,i] , M[:,i+1])) # Sum over element-wise multiplication between neighbor columns\n",
    "    \n",
    "    return total"
   ]
  },
  {
   "cell_type": "markdown",
   "metadata": {},
   "source": [
    "### Monte Carlo Iterations"
   ]
  },
  {
   "cell_type": "code",
   "execution_count": 16,
   "metadata": {},
   "outputs": [
    {
     "name": "stdout",
     "output_type": "stream",
     "text": [
      "Complete 5000 steps\n"
     ]
    }
   ],
   "source": [
    "# Start the Monte Carlo iterations\n",
    "for i in range(ns):\n",
    "    rele = np.random.randint(N**2)\n",
    "    m,n = divmod(rele,N)\n",
    "    newM = np.copy(M)\n",
    "    newM[m,n] *= -1\n",
    "    dE = estE(newM) - estE(M)\n",
    "    if dE <= 0:\n",
    "        np.copyto(M,newM)\n",
    "    elif np.random.random_sample() <= np.exp(-dE/T):\n",
    "        np.copyto(M,newM)\n",
    "    \n",
    "print(\"Complete {:d} steps\".format(ns))"
   ]
  },
  {
   "cell_type": "markdown",
   "metadata": {},
   "source": [
    "## Visualize the results\n",
    "\n",
    "The final spin configuration is shown below with its corresponding magnetization: $$\\langle M \\rangle = \\frac{1}{N^2} \\sum_i^{N^2} s_i$$ provided. The yellow and blue color in the figure below represent spin up and down respectively."
   ]
  },
  {
   "cell_type": "code",
   "execution_count": 17,
   "metadata": {},
   "outputs": [
    {
     "name": "stdout",
     "output_type": "stream",
     "text": [
      "<M> =  0.095\n"
     ]
    },
    {
     "data": {
      "image/png": "[encoded data removed]",
      "text/plain": [
       "<Figure size 432x288 with 1 Axes>"
      ]
     },
     "metadata": {
      "needs_background": "light"
     },
     "output_type": "display_data"
    }
   ],
   "source": [
    "fig, ax = plt.subplots()\n",
    "ax.imshow(M, extent=[0.5, N + 0.5, N + 0.5 , 0.5], vmin=-1, vmax=1)\n",
    "plt.axis('off')\n",
    "\n",
    "print(\"<M> = \", np.sum(M)/(N**2))"
   ]
  },
  {
   "cell_type": "markdown",
   "metadata": {},
   "source": [
    "## Discriminating between the low- and high-temperature phase by neural network\n",
    "\n",
    "Recently machine learning has been exploited in studying phases and phase transitions in condensed-matter research. The code below demonstrate that a trained neural network is capable of descriminating between the low-temperature ferromagnetic phase  and the high-temperature paramagnetic phase. The trained neural network (trained on square lattice) can be further exploited to estimate the critical temperature of Ising model with a different lattice architecture (ex. triangular lattice, Fig.$~$2).\n",
    "\n",
    "<figure>\n",
    "<img src = \"./img/Ising_TriLatt.png\", width=200, height=600>\n",
    "\n",
    "<center><figcaption> Figure 2: Spins on a triangular lattice. </figcaption></center>\n",
    "</figure>\n",
    "\n",
    "\n",
    "\n",
    "### Parameters for the model neural network"
   ]
  },
  {
   "cell_type": "code",
   "execution_count": 277,
   "metadata": {},
   "outputs": [],
   "source": [
    "n_inputs = 20*20  # MNIST\n",
    "n_hidden1 = 400\n",
    "# n_hidden2 = 100\n",
    "n_outputs = 2\n",
    "cost_history = np.empty(shape=[1],dtype=float)"
   ]
  },
  {
   "cell_type": "code",
   "execution_count": 278,
   "metadata": {},
   "outputs": [],
   "source": [
    "reset_graph()\n",
    "\n",
    "X = tf.placeholder(tf.float32, shape=(None, n_inputs), name=\"X\")\n",
    "y = tf.placeholder(tf.int32, shape=(None), name=\"y\")"
   ]
  },
  {
   "cell_type": "code",
   "execution_count": 279,
   "metadata": {},
   "outputs": [],
   "source": [
    "scale = 0.05 # l2 regularization hyperparameter\n",
    "\n",
    "my_dense_layer = partial(\n",
    "    tf.layers.dense, activation=tf.nn.sigmoid,\n",
    "    kernel_regularizer=tf.contrib.layers.l2_regularizer(scale))\n",
    "\n",
    "with tf.name_scope(\"dnn\"):\n",
    "    hidden1 = my_dense_layer(X, n_hidden1, name=\"hidden1\")\n",
    "    logits = my_dense_layer(hidden1, n_outputs, activation=None, name=\"outputs\")"
   ]
  },
  {
   "cell_type": "code",
   "execution_count": 280,
   "metadata": {},
   "outputs": [],
   "source": [
    "with tf.name_scope(\"loss\"):\n",
    "    xentropy = tf.nn.sparse_softmax_cross_entropy_with_logits(labels=y, logits=logits)\n",
    "    base_loss = tf.reduce_mean(xentropy, name=\"avg_xentropy\")   # not shown\n",
    "    reg_losses = tf.get_collection(tf.GraphKeys.REGULARIZATION_LOSSES)\n",
    "    loss = tf.add_n([base_loss] + reg_losses, name=\"loss\")"
   ]
  },
  {
   "cell_type": "code",
   "execution_count": 281,
   "metadata": {},
   "outputs": [],
   "source": [
    "learning_rate = 0.0001\n",
    "\n",
    "with tf.name_scope(\"train\"):\n",
    "    optimizer = tf.train.AdamOptimizer(learning_rate)\n",
    "    training_op = optimizer.minimize(loss)"
   ]
  },
  {
   "cell_type": "code",
   "execution_count": 282,
   "metadata": {},
   "outputs": [],
   "source": [
    "with tf.name_scope(\"eval\"):\n",
    "    correct = tf.nn.in_top_k(logits, y, 1)\n",
    "#     predicted = tf.nn.sigmoid(logits)\n",
    "#     correct = tf.equal(tf.round(predicted), y)\n",
    "    accuracy = tf.reduce_mean(tf.cast(correct, tf.float32))"
   ]
  },
  {
   "cell_type": "code",
   "execution_count": 283,
   "metadata": {},
   "outputs": [],
   "source": [
    "init = tf.global_variables_initializer()\n",
    "saver = tf.train.Saver()"
   ]
  },
  {
   "cell_type": "code",
   "execution_count": 284,
   "metadata": {},
   "outputs": [],
   "source": [
    "n_epochs = 200\n",
    "batch_size = 50"
   ]
  },
  {
   "cell_type": "code",
   "execution_count": 285,
   "metadata": {},
   "outputs": [],
   "source": [
    "def shuffle_batch(X, y, batch_size):\n",
    "    rnd_idx = np.random.permutation(len(X))\n",
    "    n_batches = len(X) // batch_size\n",
    "    for batch_idx in np.array_split(rnd_idx, n_batches):\n",
    "        X_batch, y_batch = X[batch_idx], y[batch_idx]\n",
    "        yield X_batch, y_batch"
   ]
  },
  {
   "cell_type": "code",
   "execution_count": 294,
   "metadata": {},
   "outputs": [],
   "source": [
    "# (X_train, y_train), (X_test, y_test) = tf.keras.datasets.mnist.load_data()\n",
    "# X_train = X_train.astype(np.float32).reshape(-1, 28*28) / 255.0\n",
    "# X_test = X_test.astype(np.float32).reshape(-1, 28*28) / 255.0\n",
    "# y_train = y_train.astype(np.int32)\n",
    "# y_test = y_test.astype(np.int32)\n",
    "# X_valid, X_train = X_train[:5000], X_train[5000:]\n",
    "# y_valid, y_train = y_train[:5000], y_train[5000:]\n",
    "\n",
    "Xdata = np.loadtxt(\"./Xtrain.txt\", dtype=int)\n",
    "# X_test = np.loadtxt(\"./Xtest.txt\", dtype=int)\n",
    "X_test = np.loadtxt(\"./Xtest_tri.txt\", dtype=int)\n",
    "valid_idx = np.kron(np.ones(20,dtype=int), np.arange(200,250,dtype=int)) + np.kron(250*np.arange(0,20,dtype=int),np.ones(50,dtype=int))\n",
    "train_idx = np.kron(np.ones(20,dtype=int), np.arange(0,200,dtype=int)) + np.kron(250*np.arange(0,20,dtype=int),np.ones(200,dtype=int))\n",
    "X_valid = Xdata[valid_idx]\n",
    "X_train = Xdata[train_idx]\n",
    "y_train = np.concatenate((np.zeros(2000, dtype=int), np.ones(2000, dtype=int)))\n",
    "y_valid = np.concatenate((np.zeros(500, dtype=int), np.ones(500, dtype=int)))\n",
    "y_test = np.concatenate((np.zeros(2500, dtype=int), np.ones(2500, dtype=int)))"
   ]
  },
  {
   "cell_type": "code",
   "execution_count": 288,
   "metadata": {},
   "outputs": [
    {
     "name": "stdout",
     "output_type": "stream",
     "text": [
      "0 Batch accuracy: 0.6 Validation accuracy: 0.623\n",
      "10 Batch accuracy: 0.82 Validation accuracy: 0.862\n",
      "20 Batch accuracy: 0.92 Validation accuracy: 0.891\n",
      "30 Batch accuracy: 1.0 Validation accuracy: 0.914\n",
      "40 Batch accuracy: 0.94 Validation accuracy: 0.94\n",
      "50 Batch accuracy: 0.9 Validation accuracy: 0.933\n",
      "60 Batch accuracy: 0.92 Validation accuracy: 0.917\n",
      "70 Batch accuracy: 0.96 Validation accuracy: 0.936\n",
      "80 Batch accuracy: 0.88 Validation accuracy: 0.941\n",
      "90 Batch accuracy: 0.94 Validation accuracy: 0.936\n",
      "100 Batch accuracy: 0.92 Validation accuracy: 0.937\n",
      "110 Batch accuracy: 0.98 Validation accuracy: 0.943\n",
      "120 Batch accuracy: 0.92 Validation accuracy: 0.939\n",
      "130 Batch accuracy: 1.0 Validation accuracy: 0.936\n",
      "140 Batch accuracy: 0.98 Validation accuracy: 0.938\n",
      "150 Batch accuracy: 0.9 Validation accuracy: 0.94\n",
      "160 Batch accuracy: 0.98 Validation accuracy: 0.941\n",
      "170 Batch accuracy: 0.94 Validation accuracy: 0.939\n",
      "180 Batch accuracy: 0.94 Validation accuracy: 0.943\n",
      "190 Batch accuracy: 0.94 Validation accuracy: 0.936\n",
      "200 Batch accuracy: 0.96 Validation accuracy: 0.941\n"
     ]
    }
   ],
   "source": [
    "with tf.Session() as sess:\n",
    "    init.run()\n",
    "    for epoch in range(n_epochs + 1):\n",
    "        for X_batch, y_batch in shuffle_batch(X_train, y_train, batch_size):\n",
    "            sess.run(training_op, feed_dict={X: X_batch, y: y_batch})\n",
    "        acc_batch = accuracy.eval(feed_dict={X: X_batch, y: y_batch})\n",
    "        acc_valid = accuracy.eval(feed_dict={X: X_valid, y: y_valid})\n",
    "        \n",
    "        cost_history = np.append(cost_history, acc_batch)\n",
    "        \n",
    "        if epoch % 10 == 0:\n",
    "            print(epoch, \"Batch accuracy:\", acc_batch, \"Validation accuracy:\", acc_valid)\n",
    "\n",
    "    save_path = saver.save(sess, \"./my_model_final.ckpt\")"
   ]
  },
  {
   "cell_type": "code",
   "execution_count": 295,
   "metadata": {},
   "outputs": [
    {
     "name": "stdout",
     "output_type": "stream",
     "text": [
      "INFO:tensorflow:Restoring parameters from ./my_model_final.ckpt\n"
     ]
    }
   ],
   "source": [
    "with tf.Session() as sess:\n",
    "    saver.restore(sess, \"./my_model_final.ckpt\") # or better, use save_path\n",
    "    X_new_scaled = X_test[:]\n",
    "    Z = logits.eval(feed_dict={X: X_new_scaled})\n",
    "    y_pred = np.argmax(Z, axis=1)"
   ]
  },
  {
   "cell_type": "code",
   "execution_count": 296,
   "metadata": {},
   "outputs": [
    {
     "name": "stdout",
     "output_type": "stream",
     "text": [
      "Predicted classes: [0 0 0 ... 1 1 1]\n",
      "Actual classes:    [0 0 0 ... 1 1 1]\n"
     ]
    }
   ],
   "source": [
    "print(\"Predicted classes:\", y_pred)\n",
    "print(\"Actual classes:   \", y_test[:])"
   ]
  },
  {
   "cell_type": "code",
   "execution_count": 291,
   "metadata": {},
   "outputs": [
    {
     "data": {
      "text/plain": [
       "[<matplotlib.lines.Line2D at 0x13c25280e10>]"
      ]
     },
     "execution_count": 291,
     "metadata": {},
     "output_type": "execute_result"
    },
    {
     "data": {
      "image/png": "[encoded data removed]",
      "text/plain": [
       "<Figure size 432x288 with 1 Axes>"
      ]
     },
     "metadata": {
      "needs_background": "light"
     },
     "output_type": "display_data"
    }
   ],
   "source": [
    "plt.plot(range(len(cost_history)),cost_history)"
   ]
  },
  {
   "cell_type": "code",
   "execution_count": 292,
   "metadata": {},
   "outputs": [
    {
     "data": {
      "text/plain": [
       "<matplotlib.lines.Line2D at 0x13c252afe80>"
      ]
     },
     "execution_count": 292,
     "metadata": {},
     "output_type": "execute_result"
    },
    {
     "data": {
      "image/png": "[encoded data removed]",
      "text/plain": [
       "<Figure size 432x288 with 1 Axes>"
      ]
     },
     "metadata": {
      "needs_background": "light"
     },
     "output_type": "display_data"
    }
   ],
   "source": [
    "plt.plot(np.linspace(1.3, 3.2, num=20), np.mean(y_pred.reshape(-1, 250), axis=1), marker=\"x\")\n",
    "plt.xlabel(r\"$k_B T /\\;J$\")\n",
    "plt.ylabel('Output layer')\n",
    "plt.axvline(x=2/np.log(1+np.sqrt(2)), color='r')"
   ]
  },
  {
   "cell_type": "code",
   "execution_count": 297,
   "metadata": {},
   "outputs": [
    {
     "data": {
      "text/plain": [
       "<matplotlib.lines.Line2D at 0x13c25297dd8>"
      ]
     },
     "execution_count": 297,
     "metadata": {},
     "output_type": "execute_result"
    },
    {
     "data": {
      "image/png": "[encoded data removed]",
      "text/plain": [
       "<Figure size 432x288 with 1 Axes>"
      ]
     },
     "metadata": {
      "needs_background": "light"
     },
     "output_type": "display_data"
    }
   ],
   "source": [
    "plt.plot(np.linspace(2.7, 4.6, num=20), np.mean(y_pred.reshape(-1, 250), axis=1), marker=\"x\")\n",
    "plt.xlabel(r\"$k_B T /\\;J$\")\n",
    "plt.ylabel('Output layer')\n",
    "plt.axvline(x=4/np.log(3), color='r')"
   ]
  },
  {
   "cell_type": "code",
   "execution_count": null,
   "metadata": {},
   "outputs": [],
   "source": []
  }
 ],
 "metadata": {
  "kernelspec": {
   "display_name": "Python 3",
   "language": "python",
   "name": "python3"
  },
  "language_info": {
   "codemirror_mode": {
    "name": "ipython",
    "version": 3
   },
   "file_extension": ".py",
   "mimetype": "text/x-python",
   "name": "python",
   "nbconvert_exporter": "python",
   "pygments_lexer": "ipython3",
   "version": "3.5.6"
  }
 },
 "nbformat": 4,
 "nbformat_minor": 2
}
